{
 "cells": [
  {
   "cell_type": "code",
   "execution_count": 1,
   "metadata": {
    "collapsed": true,
    "ExecuteTime": {
     "end_time": "2024-01-09T19:31:54.239078900Z",
     "start_time": "2024-01-09T19:31:53.970079100Z"
    }
   },
   "outputs": [],
   "source": [
    "/**\n",
    "* Одна входная точка данных\n",
    "*/\n",
    "fun neuralNetwor1(input: Double, weight: Double) = input * weight\n"
   ]
  },
  {
   "cell_type": "code",
   "execution_count": 2,
   "outputs": [
    {
     "data": {
      "text/plain": "0.8500000000000001"
     },
     "execution_count": 2,
     "metadata": {},
     "output_type": "execute_result"
    }
   ],
   "source": [
    "val weight = 0.1\n",
    "val gamesPlayed = doubleArrayOf(8.5, 9.5, 10.0, 9.0)\n",
    "\n",
    "neuralNetwor1(gamesPlayed[0], weight)\n"
   ],
   "metadata": {
    "collapsed": false,
    "ExecuteTime": {
     "end_time": "2024-01-09T19:31:54.575081500Z",
     "start_time": "2024-01-09T19:31:54.220081400Z"
    }
   }
  },
  {
   "cell_type": "code",
   "execution_count": 3,
   "outputs": [],
   "source": [
    "/**\n",
    "* Несколько входных точек данных на несколько весовых коэффициентов(взвешенная сумма)\n",
    "*/\n",
    "fun neuralNetwork2(input: DoubleArray, weight: DoubleArray): Double {\n",
    "    fun inputOnWeight(input: DoubleArray, weight: DoubleArray): Double {\n",
    "        var result = 0.0\n",
    "        for (i in 0..<input.size) {\n",
    "            result += input[i] * weight[i]\n",
    "        }\n",
    "        return result\n",
    "    }\n",
    "    return inputOnWeight(input, weight)\n",
    "}\n"
   ],
   "metadata": {
    "collapsed": false,
    "ExecuteTime": {
     "end_time": "2024-01-09T19:31:55.542073400Z",
     "start_time": "2024-01-09T19:31:54.574076800Z"
    }
   }
  },
  {
   "cell_type": "code",
   "execution_count": 4,
   "outputs": [
    {
     "data": {
      "text/plain": "0.9800000000000001"
     },
     "execution_count": 4,
     "metadata": {},
     "output_type": "execute_result"
    }
   ],
   "source": [
    "val weights = doubleArrayOf(0.1, 0.2, 0.0)\n",
    "\n",
    "val games = doubleArrayOf(8.5, 9.5, 9.9, 9.0)\n",
    "val wins = doubleArrayOf(0.65, 0.8, 0.8, 0.9)\n",
    "val funs = doubleArrayOf(1.2, 1.3, 0.5, 1.0)\n",
    "\n",
    "val inputs = doubleArrayOf(games[0], wins[0], funs[0])\n",
    "\n",
    "neuralNetwork2(inputs, weights)\n"
   ],
   "metadata": {
    "collapsed": false,
    "ExecuteTime": {
     "end_time": "2024-01-09T19:31:55.801071800Z",
     "start_time": "2024-01-09T19:31:55.545079900Z"
    }
   }
  },
  {
   "cell_type": "code",
   "execution_count": 5,
   "outputs": [],
   "source": [
    "%use multik"
   ],
   "metadata": {
    "collapsed": false,
    "ExecuteTime": {
     "end_time": "2024-01-09T19:31:57.873077200Z",
     "start_time": "2024-01-09T19:31:55.803079900Z"
    }
   }
  },
  {
   "cell_type": "code",
   "execution_count": 6,
   "outputs": [],
   "source": [
    "/**\n",
    " * Несколько входных точек данных на несколько весовых коэффициентов(взвешенная сумма)\n",
    " * Вариант c multik\n",
    " */\n",
    "fun neuralNetwork3(input: D1Array<Double>, weight: D1Array<Double>): Double {\n",
    "    return input dot weight\n",
    "}\n"
   ],
   "metadata": {
    "collapsed": false,
    "ExecuteTime": {
     "end_time": "2024-01-09T19:31:58.166080Z",
     "start_time": "2024-01-09T19:31:57.846086600Z"
    }
   }
  },
  {
   "cell_type": "code",
   "execution_count": 7,
   "outputs": [
    {
     "data": {
      "text/plain": "0.9800000000000001"
     },
     "execution_count": 7,
     "metadata": {},
     "output_type": "execute_result"
    }
   ],
   "source": [
    "val weights = mk.ndarray(mk[0.1, 0.2, 0.0])\n",
    "\n",
    "val games = mk.ndarray(mk[8.5, 9.5, 9.9, 9.0])\n",
    "val wins = mk.ndarray(mk[0.65, 0.8, 0.8, 0.9])\n",
    "val funs = mk.ndarray(mk[1.2, 1.3, 0.5, 1.0])\n",
    "\n",
    "val inputs = mk.ndarray(mk[games[0], wins[0], funs[0]])\n",
    "\n",
    "neuralNetwork3(inputs, weights)\n"
   ],
   "metadata": {
    "collapsed": false,
    "ExecuteTime": {
     "end_time": "2024-01-09T19:32:00.457084700Z",
     "start_time": "2024-01-09T19:31:58.170089700Z"
    }
   }
  },
  {
   "cell_type": "code",
   "execution_count": 8,
   "outputs": [],
   "source": [
    "/**\n",
    " * Прогнозирование с несколькими входами и выходами\n",
    " */\n",
    "fun neuralNetwork4(input: D1Array<Double>, weight: D2Array<Double>): D1Array<Double> {\n",
    "    val output = weight dot input\n",
    "    \n",
    "    return output\n",
    "}\n"
   ],
   "metadata": {
    "collapsed": false,
    "ExecuteTime": {
     "end_time": "2024-01-09T19:32:00.757072300Z",
     "start_time": "2024-01-09T19:32:00.421077600Z"
    }
   }
  },
  {
   "cell_type": "code",
   "execution_count": 9,
   "outputs": [
    {
     "data": {
      "text/plain": "[0.555, 0.9800000000000001, 0.9650000000000001]"
     },
     "execution_count": 9,
     "metadata": {},
     "output_type": "execute_result"
    }
   ],
   "source": [
    "val weights = mk.ndarray(\n",
    "    mk[\n",
    "        mk[0.1, 0.1, -0.3], // травмы ?\n",
    "        mk[0.1, 0.2, 0.0], // победы ?\n",
    "        mk[0.0, 1.3, 0.1] // печаль ?\n",
    "    ]\n",
    ")\n",
    "\n",
    "val games = mk.ndarray(mk[8.5, 9.5, 9.9, 9.0])\n",
    "val wins = mk.ndarray(mk[0.65, 0.8, 0.8, 0.9])\n",
    "val funs = mk.ndarray(mk[1.2, 1.3, 0.5, 1.0])\n",
    "\n",
    "val inputs = mk.ndarray(mk[games[0], wins[0], funs[0]])\n",
    "\n",
    "neuralNetwork4(inputs, weights)\n"
   ],
   "metadata": {
    "collapsed": false,
    "ExecuteTime": {
     "end_time": "2024-01-09T19:32:01.663077Z",
     "start_time": "2024-01-09T19:32:00.617076100Z"
    }
   }
  },
  {
   "cell_type": "code",
   "execution_count": 10,
   "outputs": [],
   "source": [
    "/**\n",
    " * Прогнозирование на основе прогнозов\n",
    " */\n",
    "fun neuralNetwork5(input: D1Array<Double>, allWeights: Array<D2Array<Double>>): D1Array<Double> {\n",
    "    val hid = allWeights.get(0) dot input\n",
    "    val pred = allWeights.get(1) dot hid\n",
    "    \n",
    "    return pred\n",
    "}"
   ],
   "metadata": {
    "collapsed": false,
    "ExecuteTime": {
     "end_time": "2024-01-09T19:32:01.899072700Z",
     "start_time": "2024-01-09T19:32:01.661080800Z"
    }
   }
  },
  {
   "cell_type": "code",
   "outputs": [
    {
     "data": {
      "text/plain": "[0.21349999999999997, 0.14500000000000002, 0.5065]"
     },
     "execution_count": 11,
     "metadata": {},
     "output_type": "execute_result"
    }
   ],
   "source": [
    "val hids = mk.ndarray(\n",
    "    mk[\n",
    "        mk[0.1, 0.2, -0.1], // hid[0] ?\n",
    "        mk[-0.1, 0.1, 0.9], // hid[1] ?\n",
    "        mk[0.1, 0.4, 0.1] // hid[2] ?\n",
    "    ]\n",
    ")\n",
    "\n",
    "val weights = mk.ndarray(\n",
    "    mk[\n",
    "        mk[0.3, 1.1, -0.3], // травмы ?\n",
    "        mk[0.1, 0.2, 0.0], // победы ?\n",
    "        mk[0.0, 1.3, 0.1] // печаль ?\n",
    "    ]\n",
    ")\n",
    "\n",
    "val allWeights = arrayOf(hids, weights)\n",
    "\n",
    "val games = mk.ndarray(mk[8.5, 9.5, 9.9, 9.0])\n",
    "val wins = mk.ndarray(mk[0.65, 0.8, 0.8, 0.9])\n",
    "val funs = mk.ndarray(mk[1.2, 1.3, 0.5, 1.0])\n",
    "\n",
    "val inputs = mk.ndarray(mk[games[0], wins[0], funs[0]])\n",
    "\n",
    "neuralNetwork5(inputs, allWeights)\n"
   ],
   "metadata": {
    "collapsed": false,
    "ExecuteTime": {
     "end_time": "2024-01-09T19:32:03.153075200Z",
     "start_time": "2024-01-09T19:32:01.908079600Z"
    }
   },
   "execution_count": 11
  }
 ],
 "metadata": {
  "kernelspec": {
   "display_name": "Kotlin",
   "language": "kotlin",
   "name": "kotlin"
  },
  "language_info": {
   "name": "kotlin",
   "version": "1.9.0",
   "mimetype": "text/x-kotlin",
   "file_extension": ".kt",
   "pygments_lexer": "kotlin",
   "codemirror_mode": "text/x-kotlin",
   "nbconvert_exporter": ""
  }
 },
 "nbformat": 4,
 "nbformat_minor": 0
}
