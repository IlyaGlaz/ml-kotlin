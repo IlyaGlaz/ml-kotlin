{
 "cells": [
  {
   "cell_type": "code",
   "execution_count": 61,
   "metadata": {
    "collapsed": true,
    "ExecuteTime": {
     "end_time": "2023-11-18T17:23:52.019163700Z",
     "start_time": "2023-11-18T17:23:51.910160100Z"
    }
   },
   "outputs": [],
   "source": [
    "/**\n",
    "* Одна входная точка данных\n",
    "*/\n",
    "fun neuralNetwor1(input: Double, weight: Double) = input * weight\n"
   ]
  },
  {
   "cell_type": "code",
   "execution_count": 62,
   "outputs": [
    {
     "data": {
      "text/plain": "0.8500000000000001"
     },
     "execution_count": 62,
     "metadata": {},
     "output_type": "execute_result"
    }
   ],
   "source": [
    "val weight = 0.1\n",
    "val gamesPlayed = doubleArrayOf(8.5, 9.5, 10.0, 9.0)\n",
    "\n",
    "neuralNetwor1(gamesPlayed[0], weight)\n"
   ],
   "metadata": {
    "collapsed": false,
    "ExecuteTime": {
     "end_time": "2023-11-18T17:23:52.131149600Z",
     "start_time": "2023-11-18T17:23:51.973151200Z"
    }
   }
  },
  {
   "cell_type": "code",
   "execution_count": 63,
   "outputs": [],
   "source": [
    "/**\n",
    "* Несколько входных точек данных на несколько весовых коэффициентов(взвешенная сумма)\n",
    "*/\n",
    "fun neuralNetwork2(input: DoubleArray, weight: DoubleArray): Double {\n",
    "    fun inputOnWeight(input: DoubleArray, weight: DoubleArray): Double {\n",
    "        var result = 0.0\n",
    "        for (i in 0..<input.size) {\n",
    "            result += input[i] * weight[i]\n",
    "        }\n",
    "        return result\n",
    "    }\n",
    "    return inputOnWeight(input, weight)\n",
    "}\n"
   ],
   "metadata": {
    "collapsed": false,
    "ExecuteTime": {
     "end_time": "2023-11-18T17:23:52.253148300Z",
     "start_time": "2023-11-18T17:23:52.101150800Z"
    }
   }
  },
  {
   "cell_type": "code",
   "execution_count": 64,
   "outputs": [
    {
     "data": {
      "text/plain": "0.9800000000000001"
     },
     "execution_count": 64,
     "metadata": {},
     "output_type": "execute_result"
    }
   ],
   "source": [
    "val weights = doubleArrayOf(0.1, 0.2, 0.0)\n",
    "\n",
    "val games = doubleArrayOf(8.5, 9.5, 9.9, 9.0)\n",
    "val wins = doubleArrayOf(0.65, 0.8, 0.8, 0.9)\n",
    "val funs = doubleArrayOf(1.2, 1.3, 0.5, 1.0)\n",
    "\n",
    "val inputs = doubleArrayOf(games[0], wins[0], funs[0])\n",
    "\n",
    "neuralNetwork2(inputs, weights)\n"
   ],
   "metadata": {
    "collapsed": false,
    "ExecuteTime": {
     "end_time": "2023-11-18T17:23:52.363151Z",
     "start_time": "2023-11-18T17:23:52.221150700Z"
    }
   }
  },
  {
   "cell_type": "code",
   "execution_count": 65,
   "outputs": [],
   "source": [
    "%use multik"
   ],
   "metadata": {
    "collapsed": false,
    "ExecuteTime": {
     "end_time": "2023-11-18T17:23:52.861152900Z",
     "start_time": "2023-11-18T17:23:52.361153700Z"
    }
   }
  },
  {
   "cell_type": "code",
   "execution_count": 66,
   "outputs": [],
   "source": [
    "/**\n",
    " * Несколько входных точек данных на несколько весовых коэффициентов(взвешенная сумма)\n",
    " * Вариант c multik\n",
    " */\n",
    "fun neuralNetwork3(input: D1Array<Double>, weight: D1Array<Double>): Double {\n",
    "    return input dot weight\n",
    "}\n"
   ],
   "metadata": {
    "collapsed": false,
    "ExecuteTime": {
     "end_time": "2023-11-18T17:23:52.966156100Z",
     "start_time": "2023-11-18T17:23:52.863150300Z"
    }
   }
  },
  {
   "cell_type": "code",
   "execution_count": 67,
   "outputs": [
    {
     "data": {
      "text/plain": "0.9800000000000001"
     },
     "execution_count": 67,
     "metadata": {},
     "output_type": "execute_result"
    }
   ],
   "source": [
    "val weights = mk.ndarray(mk[0.1, 0.2, 0.0])\n",
    "\n",
    "val games = mk.ndarray(mk[8.5, 9.5, 9.9, 9.0])\n",
    "val wins = mk.ndarray(mk[0.65, 0.8, 0.8, 0.9])\n",
    "val funs = mk.ndarray(mk[1.2, 1.3, 0.5, 1.0])\n",
    "\n",
    "val inputs = mk.ndarray(mk[games[0], wins[0], funs[0]])\n",
    "\n",
    "neuralNetwork3(inputs, weights)\n"
   ],
   "metadata": {
    "collapsed": false,
    "ExecuteTime": {
     "end_time": "2023-11-18T17:23:53.279156800Z",
     "start_time": "2023-11-18T17:23:52.964152500Z"
    }
   }
  },
  {
   "cell_type": "code",
   "execution_count": 68,
   "outputs": [],
   "source": [
    "/**\n",
    " * Прогнозирование с несколькими входами и выходами\n",
    " */\n",
    "fun neuralNetwork4(input: D1Array<Double>, weight: D2Array<Double>): D1Array<Double> {\n",
    "    val output: D1Array<Double> = mk.zeros<Double>(input.size)\n",
    "    for (i in 0..<input.size) {\n",
    "        output[i] = input dot weight[i]\n",
    "    }\n",
    "    \n",
    "    return output\n",
    "}\n"
   ],
   "metadata": {
    "collapsed": false,
    "ExecuteTime": {
     "end_time": "2023-11-18T17:23:53.525161900Z",
     "start_time": "2023-11-18T17:23:53.275160400Z"
    }
   }
  },
  {
   "cell_type": "code",
   "execution_count": 69,
   "outputs": [
    {
     "data": {
      "text/plain": "[0.555, 0.9800000000000001, 0.9650000000000001]"
     },
     "execution_count": 69,
     "metadata": {},
     "output_type": "execute_result"
    }
   ],
   "source": [
    "val weights = mk.ndarray(\n",
    "    mk[\n",
    "        mk[0.1, 0.1, -0.3], // травмы ?\n",
    "        mk[0.1, 0.2, 0.0], // победы ?\n",
    "        mk[0.0, 1.3, 0.1] // печаль ?\n",
    "    ]\n",
    ")\n",
    "\n",
    "val games = mk.ndarray(mk[8.5, 9.5, 9.9, 9.0])\n",
    "val wins = mk.ndarray(mk[0.65, 0.8, 0.8, 0.9])\n",
    "val funs = mk.ndarray(mk[1.2, 1.3, 0.5, 1.0])\n",
    "\n",
    "val inputs = mk.ndarray(mk[games[0], wins[0], funs[0]])\n",
    "\n",
    "neuralNetwork4(inputs, weights)\n"
   ],
   "metadata": {
    "collapsed": false,
    "ExecuteTime": {
     "end_time": "2023-11-18T17:23:54.171156300Z",
     "start_time": "2023-11-18T17:23:53.503162Z"
    }
   }
  },
  {
   "cell_type": "code",
   "execution_count": 70,
   "outputs": [],
   "source": [],
   "metadata": {
    "collapsed": false,
    "ExecuteTime": {
     "end_time": "2023-11-18T17:23:54.181151Z",
     "start_time": "2023-11-18T17:23:54.155151700Z"
    }
   }
  }
 ],
 "metadata": {
  "kernelspec": {
   "display_name": "Kotlin",
   "language": "kotlin",
   "name": "kotlin"
  },
  "language_info": {
   "name": "kotlin",
   "version": "1.9.0",
   "mimetype": "text/x-kotlin",
   "file_extension": ".kt",
   "pygments_lexer": "kotlin",
   "codemirror_mode": "text/x-kotlin",
   "nbconvert_exporter": ""
  }
 },
 "nbformat": 4,
 "nbformat_minor": 0
}
