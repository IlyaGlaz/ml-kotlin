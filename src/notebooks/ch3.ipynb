{
 "cells": [
  {
   "cell_type": "code",
   "execution_count": 1,
   "metadata": {
    "collapsed": true,
    "ExecuteTime": {
     "end_time": "2023-11-10T18:18:00.837661100Z",
     "start_time": "2023-11-10T18:18:00.615661800Z"
    }
   },
   "outputs": [],
   "source": [
    "/**\n",
    "* Одна входная точка данных\n",
    "*/\n",
    "fun neuralNetwor1(input: Double, weight: Double) = input * weight"
   ]
  },
  {
   "cell_type": "code",
   "execution_count": 2,
   "outputs": [
    {
     "data": {
      "text/plain": "0.8500000000000001"
     },
     "execution_count": 2,
     "metadata": {},
     "output_type": "execute_result"
    }
   ],
   "source": [
    "val weight = 0.1\n",
    "val gamesPlayed = doubleArrayOf(8.5, 9.5, 10.0, 9.0)\n",
    "\n",
    "neuralNetwor1(gamesPlayed[0], weight)"
   ],
   "metadata": {
    "collapsed": false,
    "ExecuteTime": {
     "end_time": "2023-11-10T18:18:01.143662800Z",
     "start_time": "2023-11-10T18:18:00.839668500Z"
    }
   }
  },
  {
   "cell_type": "code",
   "execution_count": 1,
   "outputs": [],
   "source": [
    "/**\n",
    "* Несколько входных точек данных на несколько весовых коэффициентов(взвешенная сумма)\n",
    "*/\n",
    "fun neuralNetwork2(input: DoubleArray, weight: DoubleArray): Double {\n",
    "    fun inputOnWeight(input: DoubleArray, weight: DoubleArray): Double {\n",
    "        var result = 0.0\n",
    "        for (i in 0..<input.size) {\n",
    "            result += input[i] * weight[i]\n",
    "        }\n",
    "        return result\n",
    "    }\n",
    "    return inputOnWeight(input, weight)\n",
    "}"
   ],
   "metadata": {
    "collapsed": false,
    "ExecuteTime": {
     "end_time": "2023-11-10T18:29:03.194547200Z",
     "start_time": "2023-11-10T18:29:02.385555800Z"
    }
   }
  },
  {
   "cell_type": "code",
   "execution_count": 2,
   "outputs": [
    {
     "data": {
      "text/plain": "0.9800000000000001"
     },
     "execution_count": 2,
     "metadata": {},
     "output_type": "execute_result"
    }
   ],
   "source": [
    "val weights = doubleArrayOf(0.1, 0.2, 0.0)\n",
    "val games = doubleArrayOf(8.5, 9.5, 9.9, 9.0)\n",
    "val wins = doubleArrayOf(0.65, 0.8, 0.8, 0.9)\n",
    "val funs = doubleArrayOf(1.2, 1.3, 0.5, 1.0)\n",
    "\n",
    "val inputs = doubleArrayOf(games[0], wins[0], funs[0])\n",
    "\n",
    "neuralNetwork2(inputs, weights)"
   ],
   "metadata": {
    "collapsed": false,
    "ExecuteTime": {
     "end_time": "2023-11-10T18:29:14.722909500Z",
     "start_time": "2023-11-10T18:29:14.292913100Z"
    }
   }
  },
  {
   "cell_type": "code",
   "execution_count": 5,
   "outputs": [],
   "source": [],
   "metadata": {
    "collapsed": false,
    "ExecuteTime": {
     "end_time": "2023-11-10T18:18:02.222655700Z",
     "start_time": "2023-11-10T18:18:02.163665900Z"
    }
   }
  }
 ],
 "metadata": {
  "kernelspec": {
   "display_name": "Kotlin",
   "language": "kotlin",
   "name": "kotlin"
  },
  "language_info": {
   "name": "kotlin",
   "version": "1.9.0",
   "mimetype": "text/x-kotlin",
   "file_extension": ".kt",
   "pygments_lexer": "kotlin",
   "codemirror_mode": "text/x-kotlin",
   "nbconvert_exporter": ""
  }
 },
 "nbformat": 4,
 "nbformat_minor": 0
}
